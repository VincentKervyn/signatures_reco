{
 "cells": [
  {
   "cell_type": "code",
   "execution_count": 1,
   "metadata": {
    "pycharm": {
     "name": "#%%\n"
    }
   },
   "outputs": [],
   "source": [
    "import cv2\n",
    "import xml.etree.ElementTree as ET\n",
    "from glob import glob\n",
    "import pandas as pd\n",
    "import os, sys, random, shutil"
   ]
  },
  {
   "cell_type": "code",
   "execution_count": 7,
   "metadata": {
    "pycharm": {
     "name": "#%%\n"
    }
   },
   "outputs": [],
   "source": [
    "df = []\n",
    "cnt = 0\n",
    "# refer the xml files to understand its structure and revist this code block.\n",
    "annotations = sorted(glob('data/train_xml/*.xml'))\n",
    "for file in annotations:\n",
    "    myroot = ET.parse(file).getroot()\n",
    "    # image filename is changed aah97e00-page02_1.tif -> 0.tif, so the previous filename is collected here.\n",
    "    prev_filename = myroot[0].attrib['src']\n",
    "    filename = str(cnt) + '.tif'  # new filename based on the count (0.tif, 1.tif etc)\n",
    "    page_height, page_width = myroot[0][0].attrib['height'], myroot[0][0].attrib['width']\n",
    "\n",
    "    row = []\n",
    "    # An image might have multiple items (zones) (logos and signs), so iterate through each zones\n",
    "    for zone in myroot[0][0]:\n",
    "        category = zone.attrib['gedi_type']  # type of zone (DLLogo/ DLSignature)\n",
    "        id = zone.attrib['id']\n",
    "        x, y = zone.attrib['col'], zone.attrib['row']  # x, y coordinate\n",
    "        w, h = zone.attrib['width'], zone.attrib['height']  # width and height of bbox\n",
    "\n",
    "        # Signature have Authors, represeting whose signature it is\n",
    "        if category == 'DLSignature':\n",
    "            AuthorID = zone.attrib['AuthorID']\n",
    "            Overlapped = zone.attrib['Overlapped']\n",
    "        else:\n",
    "            # Logos don't have authors.\n",
    "            AuthorID, Overlapped = ('NA', 'NA')\n",
    "        row = [prev_filename, filename, page_height, page_width, AuthorID, Overlapped, category, id, x, y, w, h]\n",
    "        df.append(row)\n",
    "    cnt += 1"
   ]
  },
  {
   "cell_type": "code",
   "execution_count": 8,
   "metadata": {
    "pycharm": {
     "name": "#%%\n"
    }
   },
   "outputs": [
    {
     "name": "stdout",
     "output_type": "stream",
     "text": [
      "              prev_filename  filename page_height page_width       AuthorID  \\\n",
      "0            fzf54f00_1.tif     0.tif        1575       1200  Schultz, F.J.   \n",
      "1            fzf54f00_1.tif     0.tif        1575       1200             NA   \n",
      "2              dgi64c00.tif     2.tif        2292       1728  Schultz, F.J.   \n",
      "3              dgi64c00.tif     2.tif        2292       1728                  \n",
      "4              dgi64c00.tif     2.tif        2292       1728                  \n",
      "...                     ...       ...         ...        ...            ...   \n",
      "1063           xmw13f00.tif  1035.tif        3290       2544   Beatty, D.A.   \n",
      "1064           xmw13f00.tif  1035.tif        3290       2544             NA   \n",
      "1065  rsj41f00-page02_2.tif  1037.tif        1575       1200   Hamann, M.A.   \n",
      "1066  rsj41f00-page02_2.tif  1037.tif        1575       1200             NA   \n",
      "1067           vfh43f00.tif  1038.tif        3282       2544  Nielsen, V.C.   \n",
      "\n",
      "     Overlapped     category    id     x     y width height  \n",
      "0           Yes  DLSignature  None   610   847   269     76  \n",
      "1            NA       DLLogo  None   839    68   193    139  \n",
      "2           Yes  DLSignature  None   933  1139   396    109  \n",
      "3           Yes  DLSignature  None   902  1986   430     84  \n",
      "4           Yes  DLSignature  None   936  2067   451     73  \n",
      "...         ...          ...   ...   ...   ...   ...    ...  \n",
      "1063        Yes  DLSignature  None  1364  2079   731    159  \n",
      "1064         NA       DLLogo  None  1112   197   400    218  \n",
      "1065        Yes  DLSignature  None   612   784   320     56  \n",
      "1066         NA       DLLogo  None   520    61    73     84  \n",
      "1067        Yes  DLSignature  None  1322  2182   409    158  \n",
      "\n",
      "[1068 rows x 12 columns]\n",
      "page_height    3584\n",
      "page_width     2720\n",
      "dtype: object page_height    1575\n",
      "page_width     1200\n",
      "dtype: object\n"
     ]
    }
   ],
   "source": [
    "##Save data in DataFrame\n",
    "data = pd.DataFrame(df, columns=['prev_filename', 'filename', 'page_height', 'page_width', 'AuthorID', 'Overlapped',\n",
    "                                 'category', 'id', 'x', 'y', 'width', 'height'])\n",
    "test = data[['page_height', 'page_width']]\n",
    "print (data)\n",
    "print(test.max(), test.min())"
   ]
  },
  {
   "cell_type": "code",
   "execution_count": null,
   "metadata": {
    "pycharm": {
     "name": "#%%\n"
    }
   },
   "outputs": [],
   "source": []
  }
 ],
 "metadata": {
  "kernelspec": {
   "display_name": "Python 3 (ipykernel)",
   "language": "python",
   "name": "python3"
  },
  "language_info": {
   "codemirror_mode": {
    "name": "ipython",
    "version": 3
   },
   "file_extension": ".py",
   "mimetype": "text/x-python",
   "name": "python",
   "nbconvert_exporter": "python",
   "pygments_lexer": "ipython3",
   "version": "3.8.10"
  }
 },
 "nbformat": 4,
 "nbformat_minor": 1
}
