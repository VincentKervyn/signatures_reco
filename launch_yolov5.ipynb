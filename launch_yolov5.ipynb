{
 "cells": [
  {
   "cell_type": "code",
   "execution_count": 23,
   "metadata": {
    "pycharm": {
     "name": "#%%\n"
    }
   },
   "outputs": [],
   "source": [
    "import shutil\n",
    "import os, sys, random\n",
    "from glob import glob\n",
    "import pandas as pd\n",
    "from shutil import copyfile\n",
    "import pandas as pd\n",
    "from sklearn import preprocessing, model_selection\n",
    "import matplotlib.pyplot as plt\n",
    "from matplotlib import patches\n",
    "import numpy as np\n",
    "import os\n",
    "%matplotlib inline"
   ]
  },
  {
   "cell_type": "markdown",
   "metadata": {},
   "source": [
    "Cloning Official Repo\n",
    "\n"
   ]
  },
  {
   "cell_type": "code",
   "execution_count": 24,
   "metadata": {
    "pycharm": {
     "name": "#%%\n"
    }
   },
   "outputs": [],
   "source": [
    "# !git clone  'https://github.com/ultralytics/yolov5.git'\n",
    "# !sed -i 's/PyYAML>=5.3.1/PyYAML==5.4.1/g' ./yolov5/requirements.txt\n",
    "# !pip install -qr 'yolov5/requirements.txt'"
   ]
  },
  {
   "cell_type": "code",
   "execution_count": 25,
   "metadata": {
    "pycharm": {
     "name": "#%%\n"
    }
   },
   "outputs": [
    {
     "name": "stdout",
     "output_type": "stream",
     "text": [
      "train: /home/vincent/PycharmProjects/B_and_D/data/tobacco_yolo_format/images/train\r\n",
      "val: /home/vincent/PycharmProjects/B_and_D/data/tobacco_yolo_format/images/valid\r\n",
      "\r\n",
      "nc: 2\r\n",
      "names: ['DLSignature']train: /home/vincent/PycharmProjects/B_and_D/data/tobacco_yolo_format/images/train\r\n",
      "val: /home/vincent/PycharmProjects/B_and_D/data/tobacco_yolo_format/images/valid\r\n",
      "\r\n",
      "nc: 2\r\n",
      "names: ['DLSignature']train: /home/vincent/PycharmProjects/B_and_D/data/tobacco_yolo_format/images/train\r\n",
      "val: /home/vincent/PycharmProjects/B_and_D/data/tobacco_yolo_format/images/valid\r\n",
      "\r\n",
      "nc: 1\r\n",
      "names: ['DLSignature']"
     ]
    }
   ],
   "source": [
    "# Setting the model parameters\n",
    "# shutil.copyfile('yolov5/tobacco_data.yaml', 'yolov5/tobacco_data.yaml') # copying the custom_dataset.yaml file to the project repo\n",
    "# setting number of classes to two (since the tobacco 800 dataset contains 2 classes, Logo & Signature)\n",
    "!sed -i 's/nc: 80/nc: 2/g' ./yolov5/models/yolov5x.yaml\n",
    "!cat yolov5/tobacco_data.yaml"
   ]
  },
  {
   "cell_type": "markdown",
   "metadata": {},
   "source": [
    "Setting some augmentations\n",
    "\n"
   ]
  },
  {
   "cell_type": "code",
   "execution_count": 26,
   "metadata": {
    "pycharm": {
     "name": "#%%\n"
    }
   },
   "outputs": [],
   "source": [
    "# !sed -i 's/perspective: 0.0/perspective: 0.1/g' ./yolov5/data/hyp.finetune.yaml\n",
    "# !sed -i 's/shear: 0.0/shear: 0.1/g' ./yolov5/data/hyp.finetune.yaml\n",
    "# !sed -i 's/flipud: 0.0/flipud: 0.5/g' ./yolov5/data/hyp.finetune.yaml\n",
    "# !sed -i 's/degrees: 0.0/degrees: 0.2/g' ./yolov5/data/hyp.finetune.yaml"
   ]
  },
  {
   "cell_type": "markdown",
   "metadata": {},
   "source": [
    "--cfg models/model.yaml is used to set the model we want to train on. I have used yolov5x.yaml."
   ]
  },
  {
   "cell_type": "code",
   "execution_count": 27,
   "metadata": {
    "pycharm": {
     "name": "#%%\n"
    }
   },
   "outputs": [
    {
     "name": "stdout",
     "output_type": "stream",
     "text": [
      "\r\n",
      "\u001B[34m\u001B[1mwandb\u001B[0m: W&B disabled due to login timeout.\r\n",
      "\u001B[34m\u001B[1mtrain: \u001B[0mweights=yolov5/yolov5s.pt, cfg=yolov5/models/yolov5x.yaml, data=yolov5/tobacco_data.yaml, hyp=yolov5/data/hyps/hyp.scratch.yaml, epochs=1, batch_size=8, imgsz=640, rect=False, resume=False, nosave=False, noval=False, noautoanchor=False, evolve=None, bucket=, cache=None, image_weights=False, device=, multi_scale=False, single_cls=False, adam=False, sync_bn=False, workers=8, project=yolov5/runs/train, name=Tobacco-run, exist_ok=False, quad=False, linear_lr=False, label_smoothing=0.0, patience=100, freeze=0, save_period=-1, local_rank=-1, entity=None, upload_dataset=False, bbox_interval=-1, artifact_alias=latest\r\n",
      "\u001B[34m\u001B[1mgithub: \u001B[0mskipping check (not a git repository), for updates see https://github.com/ultralytics/yolov5\r\n",
      "YOLOv5 🚀 v6.0-23-ga18b0c3 torch 1.9.1+cu102 CPU\r\n",
      "\r\n",
      "\u001B[34m\u001B[1mhyperparameters: \u001B[0mlr0=0.01, lrf=0.1, momentum=0.937, weight_decay=0.0005, warmup_epochs=3.0, warmup_momentum=0.8, warmup_bias_lr=0.1, box=0.05, cls=0.5, cls_pw=1.0, obj=1.0, obj_pw=1.0, iou_t=0.2, anchor_t=4.0, fl_gamma=0.0, hsv_h=0.015, hsv_s=0.7, hsv_v=0.4, degrees=0.0, translate=0.1, scale=0.5, shear=0.0, perspective=0.0, flipud=0.0, fliplr=0.5, mosaic=1.0, mixup=0.0, copy_paste=0.0\r\n",
      "\u001B[34m\u001B[1mWeights & Biases: \u001B[0mrun 'pip install wandb' to automatically track and visualize YOLOv5 🚀 runs (RECOMMENDED)\r\n",
      "\u001B[34m\u001B[1mTensorBoard: \u001B[0mStart with 'tensorboard --logdir yolov5/runs/train', view at http://localhost:6006/\r\n",
      "2021-10-22 10:26:02.558601: W tensorflow/stream_executor/platform/default/dso_loader.cc:64] Could not load dynamic library 'libcudart.so.11.0'; dlerror: libcudart.so.11.0: cannot open shared object file: No such file or directory\r\n",
      "2021-10-22 10:26:02.558650: I tensorflow/stream_executor/cuda/cudart_stub.cc:29] Ignore above cudart dlerror if you do not have a GPU set up on your machine.\r\n",
      "Traceback (most recent call last):\r\n",
      "  File \"yolov5/train.py\", line 622, in <module>\r\n",
      "    main(opt)\r\n",
      "  File \"yolov5/train.py\", line 519, in main\r\n",
      "    train(opt.hyp, opt, device, callbacks)\r\n",
      "  File \"yolov5/train.py\", line 107, in train\r\n",
      "    assert len(names) == nc, f'{len(names)} names found for nc={nc} dataset in {data}'  # check\r\n",
      "AssertionError: 1 names found for nc=2 dataset in yolov5/tobacco_data.yaml\r\n",
      "\u001B[34m\u001B[1mwandb\u001B[0m: (1) Create a W&B account\r\n",
      "\u001B[34m\u001B[1mwandb\u001B[0m: (2) Use an existing W&B account\r\n",
      "\u001B[34m\u001B[1mwandb\u001B[0m: (3) Don't visualize my results\r\n",
      "\u001B[34m\u001B[1mwandb\u001B[0m: Enter your choice: (30 second timeout) \r\n",
      "\u001B[34m\u001B[1mwandb\u001B[0m: W&B disabled due to login timeout.\r\n",
      "\u001B[34m\u001B[1mtrain: \u001B[0mweights=yolov5/yolov5s.pt, cfg=yolov5/models/yolov5x.yaml, data=yolov5/tobacco_data.yaml, hyp=yolov5/data/hyps/hyp.scratch.yaml, epochs=1, batch_size=8, imgsz=640, rect=False, resume=False, nosave=False, noval=False, noautoanchor=False, evolve=None, bucket=, cache=None, image_weights=False, device=, multi_scale=False, single_cls=False, adam=False, sync_bn=False, workers=8, project=yolov5/runs/train, name=Tobacco-run, exist_ok=False, quad=False, linear_lr=False, label_smoothing=0.0, patience=100, freeze=0, save_period=-1, local_rank=-1, entity=None, upload_dataset=False, bbox_interval=-1, artifact_alias=latest\r\n",
      "\u001B[34m\u001B[1mgithub: \u001B[0mskipping check (not a git repository), for updates see https://github.com/ultralytics/yolov5\r\n",
      "YOLOv5 🚀 v6.0-23-ga18b0c3 torch 1.9.1+cu102 CPU\r\n",
      "\r\n",
      "\u001B[34m\u001B[1mhyperparameters: \u001B[0mlr0=0.01, lrf=0.1, momentum=0.937, weight_decay=0.0005, warmup_epochs=3.0, warmup_momentum=0.8, warmup_bias_lr=0.1, box=0.05, cls=0.5, cls_pw=1.0, obj=1.0, obj_pw=1.0, iou_t=0.2, anchor_t=4.0, fl_gamma=0.0, hsv_h=0.015, hsv_s=0.7, hsv_v=0.4, degrees=0.0, translate=0.1, scale=0.5, shear=0.0, perspective=0.0, flipud=0.0, fliplr=0.5, mosaic=1.0, mixup=0.0, copy_paste=0.0\r\n",
      "\u001B[34m\u001B[1mWeights & Biases: \u001B[0mrun 'pip install wandb' to automatically track and visualize YOLOv5 🚀 runs (RECOMMENDED)\r\n",
      "\u001B[34m\u001B[1mTensorBoard: \u001B[0mStart with 'tensorboard --logdir yolov5/runs/train', view at http://localhost:6006/\r\n",
      "2021-10-22 10:26:49.490687: W tensorflow/stream_executor/platform/default/dso_loader.cc:64] Could not load dynamic library 'libcudart.so.11.0'; dlerror: libcudart.so.11.0: cannot open shared object file: No such file or directory\r\n",
      "2021-10-22 10:26:49.490727: I tensorflow/stream_executor/cuda/cudart_stub.cc:29] Ignore above cudart dlerror if you do not have a GPU set up on your machine.\r\n",
      "Traceback (most recent call last):\r\n",
      "  File \"yolov5/train.py\", line 622, in <module>\r\n",
      "    main(opt)\r\n",
      "  File \"yolov5/train.py\", line 519, in main\r\n",
      "    train(opt.hyp, opt, device, callbacks)\r\n",
      "  File \"yolov5/train.py\", line 107, in train\r\n",
      "    assert len(names) == nc, f'{len(names)} names found for nc={nc} dataset in {data}'  # check\r\n",
      "AssertionError: 1 names found for nc=2 dataset in yolov5/tobacco_data.yaml\r\n",
      "\u001B[34m\u001B[1mwandb\u001B[0m: (1) Create a W&B account\r\n",
      "\u001B[34m\u001B[1mwandb\u001B[0m: (2) Use an existing W&B account\r\n",
      "\u001B[34m\u001B[1mwandb\u001B[0m: (3) Don't visualize my results\r\n",
      "\u001B[34m\u001B[1mwandb\u001B[0m: Enter your choice: (30 second timeout) \r\n",
      "\u001B[34m\u001B[1mwandb\u001B[0m: W&B disabled due to login timeout.\r\n",
      "\u001B[34m\u001B[1mtrain: \u001B[0mweights=yolov5/yolov5s.pt, cfg=yolov5/models/yolov5x.yaml, data=yolov5/tobacco_data.yaml, hyp=yolov5/data/hyps/hyp.scratch.yaml, epochs=1, batch_size=8, imgsz=640, rect=False, resume=False, nosave=False, noval=False, noautoanchor=False, evolve=None, bucket=, cache=None, image_weights=False, device=, multi_scale=False, single_cls=False, adam=False, sync_bn=False, workers=8, project=yolov5/runs/train, name=Tobacco-run, exist_ok=False, quad=False, linear_lr=False, label_smoothing=0.0, patience=100, freeze=0, save_period=-1, local_rank=-1, entity=None, upload_dataset=False, bbox_interval=-1, artifact_alias=latest\r\n",
      "\u001B[34m\u001B[1mgithub: \u001B[0mskipping check (not a git repository), for updates see https://github.com/ultralytics/yolov5\r\n",
      "YOLOv5 🚀 v6.0-23-ga18b0c3 torch 1.9.1+cu102 CPU\r\n",
      "\r\n",
      "\u001B[34m\u001B[1mhyperparameters: \u001B[0mlr0=0.01, lrf=0.1, momentum=0.937, weight_decay=0.0005, warmup_epochs=3.0, warmup_momentum=0.8, warmup_bias_lr=0.1, box=0.05, cls=0.5, cls_pw=1.0, obj=1.0, obj_pw=1.0, iou_t=0.2, anchor_t=4.0, fl_gamma=0.0, hsv_h=0.015, hsv_s=0.7, hsv_v=0.4, degrees=0.0, translate=0.1, scale=0.5, shear=0.0, perspective=0.0, flipud=0.0, fliplr=0.5, mosaic=1.0, mixup=0.0, copy_paste=0.0\r\n",
      "\u001B[34m\u001B[1mWeights & Biases: \u001B[0mrun 'pip install wandb' to automatically track and visualize YOLOv5 🚀 runs (RECOMMENDED)\r\n",
      "\u001B[34m\u001B[1mTensorBoard: \u001B[0mStart with 'tensorboard --logdir yolov5/runs/train', view at http://localhost:6006/\r\n",
      "2021-10-22 10:27:35.785994: W tensorflow/stream_executor/platform/default/dso_loader.cc:64] Could not load dynamic library 'libcudart.so.11.0'; dlerror: libcudart.so.11.0: cannot open shared object file: No such file or directory\r\n",
      "2021-10-22 10:27:35.786042: I tensorflow/stream_executor/cuda/cudart_stub.cc:29] Ignore above cudart dlerror if you do not have a GPU set up on your machine.\r\n",
      "Traceback (most recent call last):\r\n",
      "  File \"yolov5/train.py\", line 622, in <module>\r\n",
      "    main(opt)\r\n",
      "  File \"yolov5/train.py\", line 519, in main\r\n",
      "    train(opt.hyp, opt, device, callbacks)\r\n",
      "  File \"yolov5/train.py\", line 107, in train\r\n",
      "    assert len(names) == nc, f'{len(names)} names found for nc={nc} dataset in {data}'  # check\r\n",
      "AssertionError: 1 names found for nc=2 dataset in yolov5/tobacco_data.yaml\r\n",
      "\u001B[34m\u001B[1mwandb\u001B[0m: (1) Create a W&B account\r\n",
      "\u001B[34m\u001B[1mwandb\u001B[0m: (2) Use an existing W&B account\r\n",
      "\u001B[34m\u001B[1mwandb\u001B[0m: (3) Don't visualize my results\r\n",
      "\u001B[34m\u001B[1mwandb\u001B[0m: Enter your choice: (30 second timeout) \r\n",
      "\u001B[34m\u001B[1mwandb\u001B[0m: W&B disabled due to login timeout.\r\n",
      "\u001B[34m\u001B[1mtrain: \u001B[0mweights=yolov5/yolov5s.pt, cfg=yolov5/models/yolov5x.yaml, data=yolov5/tobacco_data.yaml, hyp=yolov5/data/hyps/hyp.scratch.yaml, epochs=1, batch_size=8, imgsz=640, rect=False, resume=False, nosave=False, noval=False, noautoanchor=False, evolve=None, bucket=, cache=None, image_weights=False, device=, multi_scale=False, single_cls=False, adam=False, sync_bn=False, workers=8, project=yolov5/runs/train, name=Tobacco-run, exist_ok=False, quad=False, linear_lr=False, label_smoothing=0.0, patience=100, freeze=0, save_period=-1, local_rank=-1, entity=None, upload_dataset=False, bbox_interval=-1, artifact_alias=latest\r\n",
      "\u001B[34m\u001B[1mgithub: \u001B[0mskipping check (not a git repository), for updates see https://github.com/ultralytics/yolov5\r\n",
      "YOLOv5 🚀 v6.0-23-ga18b0c3 torch 1.9.1+cu102 CPU\r\n",
      "\r\n",
      "\u001B[34m\u001B[1mhyperparameters: \u001B[0mlr0=0.01, lrf=0.1, momentum=0.937, weight_decay=0.0005, warmup_epochs=3.0, warmup_momentum=0.8, warmup_bias_lr=0.1, box=0.05, cls=0.5, cls_pw=1.0, obj=1.0, obj_pw=1.0, iou_t=0.2, anchor_t=4.0, fl_gamma=0.0, hsv_h=0.015, hsv_s=0.7, hsv_v=0.4, degrees=0.0, translate=0.1, scale=0.5, shear=0.0, perspective=0.0, flipud=0.0, fliplr=0.5, mosaic=1.0, mixup=0.0, copy_paste=0.0\r\n",
      "\u001B[34m\u001B[1mWeights & Biases: \u001B[0mrun 'pip install wandb' to automatically track and visualize YOLOv5 🚀 runs (RECOMMENDED)\r\n",
      "\u001B[34m\u001B[1mTensorBoard: \u001B[0mStart with 'tensorboard --logdir yolov5/runs/train', view at http://localhost:6006/\r\n",
      "2021-10-22 10:28:21.755186: W tensorflow/stream_executor/platform/default/dso_loader.cc:64] Could not load dynamic library 'libcudart.so.11.0'; dlerror: libcudart.so.11.0: cannot open shared object file: No such file or directory\r\n",
      "2021-10-22 10:28:21.755227: I tensorflow/stream_executor/cuda/cudart_stub.cc:29] Ignore above cudart dlerror if you do not have a GPU set up on your machine.\r\n",
      "Overriding model.yaml nc=2 with nc=1\r\n",
      "\r\n",
      "                 from  n    params  module                                  arguments                     \r\n",
      "  0                -1  1      8800  models.common.Conv                      [3, 80, 6, 2, 2]              \r\n",
      "  1                -1  1    115520  models.common.Conv                      [80, 160, 3, 2]               \r\n",
      "  2                -1  4    309120  models.common.C3                        [160, 160, 4]                 \r\n",
      "  3                -1  1    461440  models.common.Conv                      [160, 320, 3, 2]              \r\n",
      "  4                -1  8   2259200  models.common.C3                        [320, 320, 8]                 \r\n",
      "  5                -1  1   1844480  models.common.Conv                      [320, 640, 3, 2]              \r\n",
      "  6                -1 12  13125120  models.common.C3                        [640, 640, 12]                \r\n",
      "  7                -1  1   7375360  models.common.Conv                      [640, 1280, 3, 2]             \r\n",
      "  8                -1  4  19676160  models.common.C3                        [1280, 1280, 4]               \r\n",
      "  9                -1  1   4099840  models.common.SPPF                      [1280, 1280, 5]               \r\n",
      " 10                -1  1    820480  models.common.Conv                      [1280, 640, 1, 1]             \r\n",
      " 11                -1  1         0  torch.nn.modules.upsampling.Upsample    [None, 2, 'nearest']          \r\n",
      " 12           [-1, 6]  1         0  models.common.Concat                    [1]                           \r\n",
      " 13                -1  4   5332480  models.common.C3                        [1280, 640, 4, False]         \r\n",
      " 14                -1  1    205440  models.common.Conv                      [640, 320, 1, 1]              \r\n",
      " 15                -1  1         0  torch.nn.modules.upsampling.Upsample    [None, 2, 'nearest']          \r\n",
      " 16           [-1, 4]  1         0  models.common.Concat                    [1]                           \r\n",
      " 17                -1  4   1335040  models.common.C3                        [640, 320, 4, False]          \r\n",
      " 18                -1  1    922240  models.common.Conv                      [320, 320, 3, 2]              \r\n",
      " 19          [-1, 14]  1         0  models.common.Concat                    [1]                           \r\n",
      " 20                -1  4   4922880  models.common.C3                        [640, 640, 4, False]          \r\n",
      " 21                -1  1   3687680  models.common.Conv                      [640, 640, 3, 2]              \r\n",
      " 22          [-1, 10]  1         0  models.common.Concat                    [1]                           \r\n",
      " 23                -1  4  19676160  models.common.C3                        [1280, 1280, 4, False]        \r\n",
      " 24      [17, 20, 23]  1     40374  models.yolo.Detect                      [1, [[10, 13, 16, 30, 33, 23], [30, 61, 62, 45, 59, 119], [116, 90, 156, 198, 373, 326]], [320, 640, 1280]]\r\n",
      "Model Summary: 567 layers, 86217814 parameters, 86217814 gradients, 204.2 GFLOPs\r\n",
      "\r\n",
      "Transferred 57/745 items from yolov5/yolov5s.pt\r\n",
      "Scaled weight_decay = 0.0005\r\n",
      "\u001B[34m\u001B[1moptimizer:\u001B[0m SGD with parameter groups 123 weight, 126 weight (no decay), 126 bias\r\n",
      "\u001B[34m\u001B[1mtrain: \u001B[0mScanning '/home/vincent/PycharmProjects/B_and_D/data/tobacco_yolo_format/\u001B[0m\r\n",
      "Traceback (most recent call last):\r\n",
      "  File \"yolov5/train.py\", line 622, in <module>\r\n",
      "    main(opt)\r\n",
      "  File \"yolov5/train.py\", line 519, in main\r\n",
      "    train(opt.hyp, opt, device, callbacks)\r\n",
      "  File \"yolov5/train.py\", line 216, in train\r\n",
      "    assert mlc < nc, f'Label class {mlc} exceeds nc={nc} in {data}. Possible class labels are 0-{nc - 1}'\r\n",
      "AssertionError: Label class 1 exceeds nc=1 in yolov5/tobacco_data.yaml. Possible class labels are 0-0\r\n"
     ]
    }
   ],
   "source": [
    "!python yolov5/train.py --img 640 --batch 8 --epochs 1 \\\n",
    "    --data yolov5/tobacco_data.yaml --cfg yolov5/models/yolov5x.yaml --name Tobacco-run"
   ]
  },
  {
   "cell_type": "code",
   "execution_count": 28,
   "metadata": {
    "pycharm": {
     "name": "#%%\n"
    }
   },
   "outputs": [
    {
     "name": "stdout",
     "output_type": "stream",
     "text": [
      "\u001B[34m\u001B[1mdetect: \u001B[0mweights=['runs/train/Tobacco-run/weights/best.pt'], source=tobacco_yolo_format/images/valid/, imgsz=[640, 640], conf_thres=0.25, iou_thres=0.45, max_det=1000, device=, view_img=False, save_txt=False, save_conf=False, save_crop=False, nosave=False, classes=[1], agnostic_nms=False, augment=False, visualize=False, update=False, project=yolov5/runs/detect, name=exp, exist_ok=False, line_thickness=2, hide_labels=True, hide_conf=True, half=False, dnn=False\r\n",
      "YOLOv5 🚀 v6.0-23-ga18b0c3 torch 1.9.1+cu102 CPU\r\n",
      "\r\n",
      "Traceback (most recent call last):\r\n",
      "  File \"yolov5/detect.py\", line 307, in <module>\r\n",
      "    main(opt)\r\n",
      "  File \"yolov5/detect.py\", line 302, in main\r\n",
      "    run(**vars(opt))\r\n",
      "  File \"/home/vincent/PycharmProjects/B_and_D/venv/lib/python3.8/site-packages/torch/autograd/grad_mode.py\", line 28, in decorate_context\r\n",
      "    return func(*args, **kwargs)\r\n",
      "  File \"yolov5/detect.py\", line 82, in run\r\n",
      "    model = torch.jit.load(w) if 'torchscript' in w else attempt_load(weights, map_location=device)\r\n",
      "  File \"/home/vincent/PycharmProjects/B_and_D/yolov5/models/experimental.py\", line 94, in attempt_load\r\n",
      "    ckpt = torch.load(attempt_download(w), map_location=map_location)  # load\r\n",
      "  File \"/home/vincent/PycharmProjects/B_and_D/venv/lib/python3.8/site-packages/torch/serialization.py\", line 594, in load\r\n",
      "    with _open_file_like(f, 'rb') as opened_file:\r\n",
      "  File \"/home/vincent/PycharmProjects/B_and_D/venv/lib/python3.8/site-packages/torch/serialization.py\", line 230, in _open_file_like\r\n",
      "    return _open_file(name_or_buffer, mode)\r\n",
      "  File \"/home/vincent/PycharmProjects/B_and_D/venv/lib/python3.8/site-packages/torch/serialization.py\", line 211, in __init__\r\n",
      "    super(_open_file, self).__init__(open(name, mode))\r\n",
      "FileNotFoundError: [Errno 2] No such file or directory: 'runs/train/Tobacco-run/weights/best.pt'\r\n",
      "\u001B[34m\u001B[1mdetect: \u001B[0mweights=['runs/train/Tobacco-run/weights/best.pt'], source=tobacco_yolo_format/images/valid/, imgsz=[640, 640], conf_thres=0.25, iou_thres=0.45, max_det=1000, device=, view_img=False, save_txt=False, save_conf=False, save_crop=False, nosave=False, classes=[1], agnostic_nms=False, augment=False, visualize=False, update=False, project=yolov5/runs/detect, name=exp, exist_ok=False, line_thickness=2, hide_labels=True, hide_conf=True, half=False, dnn=False\r\n",
      "YOLOv5 🚀 v6.0-23-ga18b0c3 torch 1.9.1+cu102 CPU\r\n",
      "\r\n",
      "Traceback (most recent call last):\r\n",
      "  File \"yolov5/detect.py\", line 307, in <module>\r\n",
      "    main(opt)\r\n",
      "  File \"yolov5/detect.py\", line 302, in main\r\n",
      "    run(**vars(opt))\r\n",
      "  File \"/home/vincent/PycharmProjects/B_and_D/venv/lib/python3.8/site-packages/torch/autograd/grad_mode.py\", line 28, in decorate_context\r\n",
      "    return func(*args, **kwargs)\r\n",
      "  File \"yolov5/detect.py\", line 82, in run\r\n",
      "    model = torch.jit.load(w) if 'torchscript' in w else attempt_load(weights, map_location=device)\r\n",
      "  File \"/home/vincent/PycharmProjects/B_and_D/yolov5/models/experimental.py\", line 94, in attempt_load\r\n",
      "    ckpt = torch.load(attempt_download(w), map_location=map_location)  # load\r\n",
      "  File \"/home/vincent/PycharmProjects/B_and_D/venv/lib/python3.8/site-packages/torch/serialization.py\", line 594, in load\r\n",
      "    with _open_file_like(f, 'rb') as opened_file:\r\n",
      "  File \"/home/vincent/PycharmProjects/B_and_D/venv/lib/python3.8/site-packages/torch/serialization.py\", line 230, in _open_file_like\r\n",
      "    return _open_file(name_or_buffer, mode)\r\n",
      "  File \"/home/vincent/PycharmProjects/B_and_D/venv/lib/python3.8/site-packages/torch/serialization.py\", line 211, in __init__\r\n",
      "    super(_open_file, self).__init__(open(name, mode))\r\n",
      "FileNotFoundError: [Errno 2] No such file or directory: 'runs/train/Tobacco-run/weights/best.pt'\r\n",
      "\u001B[34m\u001B[1mdetect: \u001B[0mweights=['runs/train/Tobacco-run/weights/best.pt'], source=tobacco_yolo_format/images/valid/, imgsz=[640, 640], conf_thres=0.25, iou_thres=0.45, max_det=1000, device=, view_img=False, save_txt=False, save_conf=False, save_crop=False, nosave=False, classes=[1], agnostic_nms=False, augment=False, visualize=False, update=False, project=yolov5/runs/detect, name=exp, exist_ok=False, line_thickness=2, hide_labels=True, hide_conf=True, half=False, dnn=False\r\n",
      "YOLOv5 🚀 v6.0-23-ga18b0c3 torch 1.9.1+cu102 CPU\r\n",
      "\r\n",
      "Traceback (most recent call last):\r\n",
      "  File \"yolov5/detect.py\", line 307, in <module>\r\n",
      "    main(opt)\r\n",
      "  File \"yolov5/detect.py\", line 302, in main\r\n",
      "    run(**vars(opt))\r\n",
      "  File \"/home/vincent/PycharmProjects/B_and_D/venv/lib/python3.8/site-packages/torch/autograd/grad_mode.py\", line 28, in decorate_context\r\n",
      "    return func(*args, **kwargs)\r\n",
      "  File \"yolov5/detect.py\", line 82, in run\r\n",
      "    model = torch.jit.load(w) if 'torchscript' in w else attempt_load(weights, map_location=device)\r\n",
      "  File \"/home/vincent/PycharmProjects/B_and_D/yolov5/models/experimental.py\", line 94, in attempt_load\r\n",
      "    ckpt = torch.load(attempt_download(w), map_location=map_location)  # load\r\n",
      "  File \"/home/vincent/PycharmProjects/B_and_D/venv/lib/python3.8/site-packages/torch/serialization.py\", line 594, in load\r\n",
      "    with _open_file_like(f, 'rb') as opened_file:\r\n",
      "  File \"/home/vincent/PycharmProjects/B_and_D/venv/lib/python3.8/site-packages/torch/serialization.py\", line 230, in _open_file_like\r\n",
      "    return _open_file(name_or_buffer, mode)\r\n",
      "  File \"/home/vincent/PycharmProjects/B_and_D/venv/lib/python3.8/site-packages/torch/serialization.py\", line 211, in __init__\r\n",
      "    super(_open_file, self).__init__(open(name, mode))\r\n",
      "FileNotFoundError: [Errno 2] No such file or directory: 'runs/train/Tobacco-run/weights/best.pt'\r\n",
      "\u001B[34m\u001B[1mdetect: \u001B[0mweights=['runs/train/Tobacco-run/weights/best.pt'], source=tobacco_yolo_format/images/valid/, imgsz=[640, 640], conf_thres=0.25, iou_thres=0.45, max_det=1000, device=, view_img=False, save_txt=False, save_conf=False, save_crop=False, nosave=False, classes=[1], agnostic_nms=False, augment=False, visualize=False, update=False, project=yolov5/runs/detect, name=exp, exist_ok=False, line_thickness=2, hide_labels=True, hide_conf=True, half=False, dnn=False\r\n",
      "YOLOv5 🚀 v6.0-23-ga18b0c3 torch 1.9.1+cu102 CPU\r\n",
      "\r\n",
      "Traceback (most recent call last):\r\n",
      "  File \"yolov5/detect.py\", line 307, in <module>\r\n",
      "    main(opt)\r\n",
      "  File \"yolov5/detect.py\", line 302, in main\r\n",
      "    run(**vars(opt))\r\n",
      "  File \"/home/vincent/PycharmProjects/B_and_D/venv/lib/python3.8/site-packages/torch/autograd/grad_mode.py\", line 28, in decorate_context\r\n",
      "    return func(*args, **kwargs)\r\n",
      "  File \"yolov5/detect.py\", line 82, in run\r\n",
      "    model = torch.jit.load(w) if 'torchscript' in w else attempt_load(weights, map_location=device)\r\n",
      "  File \"/home/vincent/PycharmProjects/B_and_D/yolov5/models/experimental.py\", line 94, in attempt_load\r\n",
      "    ckpt = torch.load(attempt_download(w), map_location=map_location)  # load\r\n",
      "  File \"/home/vincent/PycharmProjects/B_and_D/venv/lib/python3.8/site-packages/torch/serialization.py\", line 594, in load\r\n",
      "    with _open_file_like(f, 'rb') as opened_file:\r\n",
      "  File \"/home/vincent/PycharmProjects/B_and_D/venv/lib/python3.8/site-packages/torch/serialization.py\", line 230, in _open_file_like\r\n",
      "    return _open_file(name_or_buffer, mode)\r\n",
      "  File \"/home/vincent/PycharmProjects/B_and_D/venv/lib/python3.8/site-packages/torch/serialization.py\", line 211, in __init__\r\n",
      "    super(_open_file, self).__init__(open(name, mode))\r\n",
      "FileNotFoundError: [Errno 2] No such file or directory: 'runs/train/Tobacco-run/weights/best.pt'\r\n"
     ]
    }
   ],
   "source": [
    "\n",
    "!python yolov5/detect.py --source tobacco_yolo_format/images/valid/ --weights 'runs/train/Tobacco-run/weights/best.pt' \\\n",
    " --hide-labels --hide-conf --classes 1 --line-thickness 2"
   ]
  },
  {
   "cell_type": "code",
   "execution_count": 29,
   "metadata": {
    "pycharm": {
     "name": "#%%\n"
    }
   },
   "outputs": [
    {
     "name": "stdout",
     "output_type": "stream",
     "text": [
      "\u001B[34m\u001B[1mdetect: \u001B[0mweights=['runs/train/Tobacco-run/weights/best.pt'], source=tobacco_yolo_format/images/valid/imagename, imgsz=[640, 640], conf_thres=0.25, iou_thres=0.45, max_det=1000, device=, view_img=False, save_txt=False, save_conf=False, save_crop=False, nosave=False, classes=[1], agnostic_nms=False, augment=False, visualize=False, update=False, project=yolov5/runs/detect, name=exp, exist_ok=False, line_thickness=2, hide_labels=True, hide_conf=True, half=False, dnn=False\r\n",
      "YOLOv5 🚀 v6.0-23-ga18b0c3 torch 1.9.1+cu102 CPU\r\n",
      "\r\n",
      "Traceback (most recent call last):\r\n",
      "  File \"yolov5/detect.py\", line 307, in <module>\r\n",
      "    main(opt)\r\n",
      "  File \"yolov5/detect.py\", line 302, in main\r\n",
      "    run(**vars(opt))\r\n",
      "  File \"/home/vincent/PycharmProjects/B_and_D/venv/lib/python3.8/site-packages/torch/autograd/grad_mode.py\", line 28, in decorate_context\r\n",
      "    return func(*args, **kwargs)\r\n",
      "  File \"yolov5/detect.py\", line 82, in run\r\n",
      "    model = torch.jit.load(w) if 'torchscript' in w else attempt_load(weights, map_location=device)\r\n",
      "  File \"/home/vincent/PycharmProjects/B_and_D/yolov5/models/experimental.py\", line 94, in attempt_load\r\n",
      "    ckpt = torch.load(attempt_download(w), map_location=map_location)  # load\r\n",
      "  File \"/home/vincent/PycharmProjects/B_and_D/venv/lib/python3.8/site-packages/torch/serialization.py\", line 594, in load\r\n",
      "    with _open_file_like(f, 'rb') as opened_file:\r\n",
      "  File \"/home/vincent/PycharmProjects/B_and_D/venv/lib/python3.8/site-packages/torch/serialization.py\", line 230, in _open_file_like\r\n",
      "    return _open_file(name_or_buffer, mode)\r\n",
      "  File \"/home/vincent/PycharmProjects/B_and_D/venv/lib/python3.8/site-packages/torch/serialization.py\", line 211, in __init__\r\n",
      "    super(_open_file, self).__init__(open(name, mode))\r\n",
      "FileNotFoundError: [Errno 2] No such file or directory: 'runs/train/Tobacco-run/weights/best.pt'\r\n",
      "\u001B[34m\u001B[1mdetect: \u001B[0mweights=['runs/train/Tobacco-run/weights/best.pt'], source=tobacco_yolo_format/images/valid/imagename, imgsz=[640, 640], conf_thres=0.25, iou_thres=0.45, max_det=1000, device=, view_img=False, save_txt=False, save_conf=False, save_crop=False, nosave=False, classes=[1], agnostic_nms=False, augment=False, visualize=False, update=False, project=yolov5/runs/detect, name=exp, exist_ok=False, line_thickness=2, hide_labels=True, hide_conf=True, half=False, dnn=False\r\n",
      "YOLOv5 🚀 v6.0-23-ga18b0c3 torch 1.9.1+cu102 CPU\r\n",
      "\r\n",
      "Traceback (most recent call last):\r\n",
      "  File \"yolov5/detect.py\", line 307, in <module>\r\n",
      "    main(opt)\r\n",
      "  File \"yolov5/detect.py\", line 302, in main\r\n",
      "    run(**vars(opt))\r\n",
      "  File \"/home/vincent/PycharmProjects/B_and_D/venv/lib/python3.8/site-packages/torch/autograd/grad_mode.py\", line 28, in decorate_context\r\n",
      "    return func(*args, **kwargs)\r\n",
      "  File \"yolov5/detect.py\", line 82, in run\r\n",
      "    model = torch.jit.load(w) if 'torchscript' in w else attempt_load(weights, map_location=device)\r\n",
      "  File \"/home/vincent/PycharmProjects/B_and_D/yolov5/models/experimental.py\", line 94, in attempt_load\r\n",
      "    ckpt = torch.load(attempt_download(w), map_location=map_location)  # load\r\n",
      "  File \"/home/vincent/PycharmProjects/B_and_D/venv/lib/python3.8/site-packages/torch/serialization.py\", line 594, in load\r\n",
      "    with _open_file_like(f, 'rb') as opened_file:\r\n",
      "  File \"/home/vincent/PycharmProjects/B_and_D/venv/lib/python3.8/site-packages/torch/serialization.py\", line 230, in _open_file_like\r\n",
      "    return _open_file(name_or_buffer, mode)\r\n",
      "  File \"/home/vincent/PycharmProjects/B_and_D/venv/lib/python3.8/site-packages/torch/serialization.py\", line 211, in __init__\r\n",
      "    super(_open_file, self).__init__(open(name, mode))\r\n",
      "FileNotFoundError: [Errno 2] No such file or directory: 'runs/train/Tobacco-run/weights/best.pt'\r\n",
      "\u001B[34m\u001B[1mdetect: \u001B[0mweights=['runs/train/Tobacco-run/weights/best.pt'], source=tobacco_yolo_format/images/valid/imagename, imgsz=[640, 640], conf_thres=0.25, iou_thres=0.45, max_det=1000, device=, view_img=False, save_txt=False, save_conf=False, save_crop=False, nosave=False, classes=[1], agnostic_nms=False, augment=False, visualize=False, update=False, project=yolov5/runs/detect, name=exp, exist_ok=False, line_thickness=2, hide_labels=True, hide_conf=True, half=False, dnn=False\r\n",
      "YOLOv5 🚀 v6.0-23-ga18b0c3 torch 1.9.1+cu102 CPU\r\n",
      "\r\n",
      "Traceback (most recent call last):\r\n",
      "  File \"yolov5/detect.py\", line 307, in <module>\r\n",
      "    main(opt)\r\n",
      "  File \"yolov5/detect.py\", line 302, in main\r\n",
      "    run(**vars(opt))\r\n",
      "  File \"/home/vincent/PycharmProjects/B_and_D/venv/lib/python3.8/site-packages/torch/autograd/grad_mode.py\", line 28, in decorate_context\r\n",
      "    return func(*args, **kwargs)\r\n",
      "  File \"yolov5/detect.py\", line 82, in run\r\n",
      "    model = torch.jit.load(w) if 'torchscript' in w else attempt_load(weights, map_location=device)\r\n",
      "  File \"/home/vincent/PycharmProjects/B_and_D/yolov5/models/experimental.py\", line 94, in attempt_load\r\n",
      "    ckpt = torch.load(attempt_download(w), map_location=map_location)  # load\r\n",
      "  File \"/home/vincent/PycharmProjects/B_and_D/venv/lib/python3.8/site-packages/torch/serialization.py\", line 594, in load\r\n",
      "    with _open_file_like(f, 'rb') as opened_file:\r\n",
      "  File \"/home/vincent/PycharmProjects/B_and_D/venv/lib/python3.8/site-packages/torch/serialization.py\", line 230, in _open_file_like\r\n",
      "    return _open_file(name_or_buffer, mode)\r\n",
      "  File \"/home/vincent/PycharmProjects/B_and_D/venv/lib/python3.8/site-packages/torch/serialization.py\", line 211, in __init__\r\n",
      "    super(_open_file, self).__init__(open(name, mode))\r\n",
      "FileNotFoundError: [Errno 2] No such file or directory: 'runs/train/Tobacco-run/weights/best.pt'\r\n",
      "\u001B[34m\u001B[1mdetect: \u001B[0mweights=['runs/train/Tobacco-run/weights/best.pt'], source=tobacco_yolo_format/images/valid/imagename, imgsz=[640, 640], conf_thres=0.25, iou_thres=0.45, max_det=1000, device=, view_img=False, save_txt=False, save_conf=False, save_crop=False, nosave=False, classes=[1], agnostic_nms=False, augment=False, visualize=False, update=False, project=yolov5/runs/detect, name=exp, exist_ok=False, line_thickness=2, hide_labels=True, hide_conf=True, half=False, dnn=False\r\n",
      "YOLOv5 🚀 v6.0-23-ga18b0c3 torch 1.9.1+cu102 CPU\r\n",
      "\r\n",
      "Traceback (most recent call last):\r\n",
      "  File \"yolov5/detect.py\", line 307, in <module>\r\n",
      "    main(opt)\r\n",
      "  File \"yolov5/detect.py\", line 302, in main\r\n",
      "    run(**vars(opt))\r\n",
      "  File \"/home/vincent/PycharmProjects/B_and_D/venv/lib/python3.8/site-packages/torch/autograd/grad_mode.py\", line 28, in decorate_context\r\n",
      "    return func(*args, **kwargs)\r\n",
      "  File \"yolov5/detect.py\", line 82, in run\r\n",
      "    model = torch.jit.load(w) if 'torchscript' in w else attempt_load(weights, map_location=device)\r\n",
      "  File \"/home/vincent/PycharmProjects/B_and_D/yolov5/models/experimental.py\", line 94, in attempt_load\r\n",
      "    ckpt = torch.load(attempt_download(w), map_location=map_location)  # load\r\n",
      "  File \"/home/vincent/PycharmProjects/B_and_D/venv/lib/python3.8/site-packages/torch/serialization.py\", line 594, in load\r\n",
      "    with _open_file_like(f, 'rb') as opened_file:\r\n",
      "  File \"/home/vincent/PycharmProjects/B_and_D/venv/lib/python3.8/site-packages/torch/serialization.py\", line 230, in _open_file_like\r\n",
      "    return _open_file(name_or_buffer, mode)\r\n",
      "  File \"/home/vincent/PycharmProjects/B_and_D/venv/lib/python3.8/site-packages/torch/serialization.py\", line 211, in __init__\r\n",
      "    super(_open_file, self).__init__(open(name, mode))\r\n",
      "FileNotFoundError: [Errno 2] No such file or directory: 'runs/train/Tobacco-run/weights/best.pt'\r\n"
     ]
    }
   ],
   "source": [
    "!python yolov5/detect.py --source tobacco_yolo_format/images/valid/imagename --weights 'runs/train/Tobacco-run/weights/best.pt' \\\n",
    " --hide-labels --hide-conf --classes 1 --line-thickness 2"
   ]
  },
  {
   "cell_type": "code",
   "execution_count": 29,
   "metadata": {},
   "outputs": [],
   "source": []
  }
 ],
 "metadata": {
  "kernelspec": {
   "display_name": "Python 3 (ipykernel)",
   "language": "python",
   "name": "python3"
  },
  "language_info": {
   "codemirror_mode": {
    "name": "ipython",
    "version": 3
   },
   "file_extension": ".py",
   "mimetype": "text/x-python",
   "name": "python",
   "nbconvert_exporter": "python",
   "pygments_lexer": "ipython3",
   "version": "3.8.10"
  }
 },
 "nbformat": 4,
 "nbformat_minor": 1
}